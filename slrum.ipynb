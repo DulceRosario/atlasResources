{
 "cells": [
  {
   "cell_type": "markdown",
   "id": "characteristic-balance",
   "metadata": {},
   "source": [
    "<h1> Ejecución en el Cluster </h1>"
   ]
  },
  {
   "cell_type": "markdown",
   "id": "oriented-uniform",
   "metadata": {},
   "source": [
    "<h2>Comandos SLURM</h2>\n",
    "<ul>\n",
    "<li> <strong>sinfo</strong> Muestra el estado del cluster</li>\n",
    "<li><strong>sinfo -p</strong>  partition Muestra información de una partición (workq,silver, copper )</li>\n",
    "<li><strong>sbatch</strong>  *filename* Ejecuta el trabajo del script filename</li>\n",
    "<li><strong>squeue -u</strong>  user Muestra el estado de los trabajos de  user</li>\n",
    "<li><strong>scancel</strong>  jobid Elimina el trabajo con el id jobid</li>\n",
    "<li><strong>scontrol hold</strong>  jobid Detiene el trabajo con el id jobid</li>\n",
    "<li><strong>scontrol resume</strong>  jobid Reanuda el trabajo con el id jobid</li>\n",
    "<li><strong>srun --pty bash</strong>  Inicia sesión interactiva en la partición por defecto (copper )</li>\n",
    "<li><strong>srun -p golden --pty bash</strong>  Inicia sesión iteractiva en la partición indicada</li>\n",
    "</ul>"
   ]
  },
  {
   "cell_type": "code",
   "execution_count": 1,
   "id": "chronic-science",
   "metadata": {},
   "outputs": [
    {
     "name": "stdout",
     "output_type": "stream",
     "text": [
      "PARTITION AVAIL  TIMELIMIT  NODES  STATE NODELIST\n",
      "workq*       up 10-00:00:0      9   idle node[1-8,11]\n",
      "golden       up 10-00:00:0      4   idle node[1-4]\n",
      "silver       up 10-00:00:0      4   idle node[5-8]\n"
     ]
    }
   ],
   "source": [
    "sinfo"
   ]
  },
  {
   "cell_type": "code",
   "execution_count": 5,
   "id": "olympic-embassy",
   "metadata": {},
   "outputs": [
    {
     "name": "stdout",
     "output_type": "stream",
     "text": [
      "PARTITION AVAIL  TIMELIMIT  NODES  STATE NODELIST\n",
      "workq*       up 10-00:00:0      9   idle node[1-8,11]\n"
     ]
    }
   ],
   "source": [
    "sinfo -p workq\n"
   ]
  },
  {
   "cell_type": "markdown",
   "id": "elementary-acquisition",
   "metadata": {},
   "source": [
    "<h2>SCRIPTS</h2>"
   ]
  },
  {
   "cell_type": "markdown",
   "id": "perceived-suspension",
   "metadata": {},
   "source": [
    "Un script slurm esta compuesta por: \n",
    "\n",
    "1.- Interprete a usar ejemplo: !/bin/bash\n",
    "\n",
    "2.- Directivas #SBATCH\n",
    "\n",
    "3.- Instrucciones a ejecutar"
   ]
  },
  {
   "cell_type": "markdown",
   "id": "clinical-doctor",
   "metadata": {},
   "source": [
    "<h3> Directivas</h3>"
   ]
  },
  {
   "cell_type": "markdown",
   "id": "brave-progress",
   "metadata": {},
   "source": [
    "<strong>--nodes</strong>=<i>count</i> Número de nodos\n",
    "\n",
    "<strong>--tasks-per-node</strong>=<i>count</i> Número de procesos por nodo\n",
    "\n",
    "<strong>--ntasks</strong>=<i>count</i> Número total de procesos\n",
    "\n",
    "<strong>--cpus-per-task</strong>=<i>count</i> Número de cores por proceso\n",
    "\n",
    "<strong>--time</strong>=<i>min</i> Tiempo limite del trabajo en minutos o en dd-hh:mm:ss\n",
    "\n",
    "<strong>--output</strong>=<i>file</i> Archivo donde se almacenan los mensajes de salida estándar \"STDOUT\"generados por el trabajo\n",
    "\n",
    "<strong>--error</strong>=<i>file<i> Archivo donde se almacenan los mensajes de error estandar \"STDERR\"generados por el trabajo\n",
    "    \n",
    "<strong>--mail-user</strong>=<i>mail</i> Mail al que se enviarán las alertas de un trabajo\n",
    "    \n",
    "<strong>--mail-type</strong>=<i>type</i> Tipos de alerta que se enviarán por mail: BEGIN, END, FAIL,REQUEUE, ALL\n",
    "    \n",
    "<strong>--job-name</strong>=<i>name</i> Nombre del trabajo\n",
    "    \n",
    "<strong>--partition</strong>=<i>name</i> Enviar el trabajo a la partició"
   ]
  },
  {
   "cell_type": "code",
   "execution_count": null,
   "id": "lucky-lecture",
   "metadata": {},
   "outputs": [],
   "source": []
  }
 ],
 "metadata": {
  "kernelspec": {
   "display_name": "Bash",
   "language": "bash",
   "name": "bash"
  },
  "language_info": {
   "codemirror_mode": "shell",
   "file_extension": ".sh",
   "mimetype": "text/x-sh",
   "name": "bash"
  }
 },
 "nbformat": 4,
 "nbformat_minor": 5
}
